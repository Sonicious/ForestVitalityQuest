{
 "cells": [
  {
   "cell_type": "markdown",
   "metadata": {},
   "source": [
    "# single site analysis  \n",
    "\n",
    "This notebook unites the approaches from the following notebooks:\n",
    "- Tutorial_Shapefile.ipynb\n",
    "- Tutorial_Cubo.ipynb"
   ]
  },
  {
   "cell_type": "code",
   "execution_count": null,
   "metadata": {},
   "outputs": [],
   "source": [
    "# libraries\n",
    "import xarray as xr\n",
    "import rioxarray\n",
    "import geopandas as gpd\n",
    "import rasterio.features\n",
    "import numpy as np\n",
    "import cubo\n",
    "from sen2nbar.nbar import nbar_cubo\n",
    "import spyndex\n",
    "from PIL import Image\n",
    "\n",
    "# plotting\n",
    "import matplotlib.pyplot as plt"
   ]
  },
  {
   "cell_type": "code",
   "execution_count": null,
   "metadata": {},
   "outputs": [],
   "source": [
    "# load the shapefile which has many polygons. Explicitely use utf8 encoding\n",
    "sites = gpd.read_file('data/AreaSites/AreaSites.shp', encoding='utf-8')\n",
    "testsite = 2\n",
    "# getting polygon data by index\n",
    "site = sites.loc[[testsite]]\n",
    "\n",
    "#Find centroid in lat/lon in WGS84 (EPSG:4326)\n",
    "centroid = site.centroid.to_crs(epsg=4326).iloc[0]\n",
    "center_x, center_y = centroid.x, centroid.y\n",
    "\n",
    "# First, find out the UTM zone for the centroid and set CRS to the appropriate UTM zone of the center point\n",
    "utm_zone = int((centroid.x + 180) // 6) + 1\n",
    "utm_crs = f'epsg:326{utm_zone}' if centroid.y >= 0 else f'epsg:327{utm_zone}'\n",
    "\n",
    "# Project the GeoDataFrame to UTM CRS\n",
    "site_utm = site.to_crs(utm_crs)\n",
    "\n",
    "# Get the bounding box in the UTM CRS\n",
    "bounds_utm = site_utm.geometry.total_bounds\n",
    "min_x, min_y, max_x, max_y = bounds_utm\n",
    "\n",
    "# Calculate width and height of the bounding box\n",
    "width = max_x - min_x\n",
    "height = max_y - min_y\n",
    "edge_size = max(width, height)\n",
    "\n",
    "print(f'Center point: {center_x}, {center_y}, Edge size: {edge_size}')"
   ]
  },
  {
   "cell_type": "code",
   "execution_count": null,
   "metadata": {},
   "outputs": [],
   "source": [
    "try:\n",
    "    data_sentinel2 = cubo.create(\n",
    "        lat = center_y, lon = center_x,\n",
    "        collection = \"sentinel-2-l2a\",\n",
    "        # Some bands are not processed by nbar_cubo, so we don't need to load them\n",
    "        # bands = [\"B01\", \"B02\", \"B03\", \"B04\", \"B05\", \"B06\", \"B07\", \"B08\", \"B8A\", \"B09\", \"B11\", \"B12\"],\n",
    "        #bands = [\"B02\", \"B03\", \"B04\", \"B05\", \"B06\", \"B07\", \"B08\", \"B11\", \"B12\"],\n",
    "        bands = [\"B02\", \"B03\", \"B04\"],\n",
    "        start_date = \"2020-05-01\",\n",
    "        end_date = \"2020-06-20\",\n",
    "        edge_size = edge_size/10+10, # 1 pixel is 10 m. so we need to convert meters to pixels. adding some extra\n",
    "        #units=\"m\",\n",
    "        resolution = 10,\n",
    "        query = {\"eo:cloud_cover\": {\"lt\": 10}}\n",
    "    )\n",
    "    \n",
    "    print(\"data found:\")\n",
    "    print(\"  size: \", data_sentinel2.nbytes / 1e6, \"MB\")\n",
    "    print(\"  time: \", len(data_sentinel2.time), \"steps\")\n",
    "    \n",
    "    data_sentinel2 = nbar_cubo(data_sentinel2)\n",
    "    \n",
    "except Exception as e:\n",
    "    print(f\"Error: {e}\")\n",
    "    data_sentinel2 = None"
   ]
  },
  {
   "cell_type": "code",
   "execution_count": null,
   "metadata": {},
   "outputs": [],
   "source": [
    "if data_sentinel2.rio.crs is None:\n",
    "    data_sentinel2.rio.write_crs('EPSG:'+str(data_sentinel2.attrs['epsg']), inplace=True)\n",
    "\n",
    "if len(set(data_sentinel2['time'].values)) != len(data_sentinel2['time'].values):\n",
    "  data_sentinel2 = data_sentinel2.groupby(\"time\")\n",
    "  data_sentinel2 = data_sentinel2.mean(dim=\"time\", skipna=True)\n",
    "\n",
    "data_sentinel2.load()\n",
    "print('Data loaded')"
   ]
  },
  {
   "cell_type": "code",
   "execution_count": null,
   "metadata": {},
   "outputs": [],
   "source": [
    "data_sentinel2_subset = data_sentinel2.isel(time=0)\n",
    "data_sentinel2_subset = data_sentinel2_subset.drop_vars(['cubo:distance_from_center'])\n",
    "data_sentinel2_subset_reprojected = data_sentinel2_subset.rio.reproject('EPSG:3035', nodata=np.nan)\n",
    "fig, ax = plt.subplots(1,2, figsize=(10,5))\n",
    "data_sentinel2_subset.sel(band=[\"B04\", \"B03\", \"B02\"]).plot.imshow(robust=True, ax=ax[0])\n",
    "ax[0].set_title(f'CUBO data in {data_sentinel2_subset.rio.crs}')\n",
    "data_sentinel2_subset_reprojected.sel(band=[\"B04\", \"B03\", \"B02\"]).plot.imshow(robust=True, ax=ax[1])\n",
    "ax[1].set_title(f'CUBO data in {data_sentinel2_subset_reprojected.rio.crs}')\n",
    "\n",
    "siteS2 = data_sentinel2_subset"
   ]
  },
  {
   "cell_type": "code",
   "execution_count": null,
   "metadata": {},
   "outputs": [],
   "source": [
    "deadwood = xr.open_zarr('data/MD.zarr')\n",
    "deadwood = deadwood.rio.write_crs('EPSG:3035')\n",
    "\n",
    "bounds = site.total_bounds\n",
    "min_x, min_y, max_x, max_y = bounds\n",
    "deadwood_subset = deadwood.sel(x=slice(min_x, max_x), y=slice(min_y, max_y))"
   ]
  },
  {
   "cell_type": "code",
   "execution_count": null,
   "metadata": {},
   "outputs": [],
   "source": [
    "dw = deadwood_subset.deadwood.isel(time=0).transpose('y', 'x')\n",
    "\n",
    "fig, ax = plt.subplots(1,2, figsize=(10,5))\n",
    "dw.plot(add_colorbar=False, ax=ax[0])\n",
    "ax[0].set_title(f'Deadwood data in {dw.rio.crs}')\n",
    "dw_reprojected = dw.rio.reproject('EPSG:32633')\n",
    "dw_reprojected.plot(add_colorbar=False, ax=ax[1])\n",
    "ax[1].set_title(f'Deadwood data in {dw_reprojected.rio.crs}')\n",
    "\n",
    "siteDeadwood = dw_reprojected"
   ]
  },
  {
   "cell_type": "code",
   "execution_count": null,
   "metadata": {},
   "outputs": [],
   "source": [
    "grid_xmin = round(min(siteDeadwood.x.values.min(), siteS2.x.values.min()))\n",
    "grid_xmax = round(max(siteDeadwood.x.values.max(), siteS2.x.values.max()))\n",
    "grid_ymin = round(min(siteDeadwood.y.values.min(), siteS2.y.values.min()))\n",
    "grid_ymax = round(max(siteDeadwood.y.values.max(), siteS2.y.values.max()))\n",
    "# amount of values\n",
    "numValues_x = round(np.mean([len(siteDeadwood.x.values), len(siteS2.x.values)]))\n",
    "numValues_y = round(np.mean([len(siteDeadwood.y.values), len(siteS2.y.values)]))\n",
    "\n",
    "new_y = np.linspace(grid_ymin, grid_ymax, numValues_y)\n",
    "new_x = np.linspace(grid_xmin, grid_xmax, numValues_x)\n",
    "\n",
    "siteS2_regridded = siteS2.interp(y=new_y, x=new_x, method='linear')\n",
    "siteDeadwood_regridded = siteDeadwood.interp(y=new_y, x=new_x, method='linear')\n",
    "\n",
    "site = site.to_crs(utm_crs)\n",
    "\n",
    "print(site.crs)\n",
    "print(siteDeadwood_regridded.rio.crs)\n",
    "print(siteS2_regridded.rio.crs)\n",
    "\n",
    "print('same grid, same System finally')"
   ]
  },
  {
   "cell_type": "code",
   "execution_count": null,
   "metadata": {},
   "outputs": [],
   "source": [
    "mask_S2 = rasterio.features.geometry_mask(\n",
    "    geometries = site.geometry,\n",
    "    out_shape = (siteS2_regridded.y.size, siteS2_regridded.x.size),\n",
    "    transform = siteS2_regridded.rio.transform(),\n",
    "    invert = True\n",
    ")\n",
    "\n",
    "mask_Deadwood = rasterio.features.geometry_mask(\n",
    "    geometries = site.geometry,\n",
    "    out_shape = (siteDeadwood_regridded.y.size, siteDeadwood_regridded.x.size),\n",
    "    transform = siteDeadwood_regridded.rio.transform(),\n",
    "    invert = False\n",
    ")\n",
    "\n",
    "finalS2 = siteS2_regridded.where(mask_S2, np.nan)\n",
    "finalDeadwood = siteDeadwood_regridded.where(mask_S2, np.nan)"
   ]
  },
  {
   "cell_type": "code",
   "execution_count": null,
   "metadata": {},
   "outputs": [],
   "source": [
    "fig, ax = plt.subplots(1,2, figsize=(10,5))\n",
    "finalDeadwood.plot(robust=True, add_colorbar=False, ax=ax[0])\n",
    "ax[0].set_title('Deadwood')\n",
    "finalS2.sel(band=[\"B04\", \"B03\", \"B02\"]).plot.imshow(robust=True, ax=ax[1])\n",
    "ax[1].set_title('Sentinel-2')"
   ]
  }
 ],
 "metadata": {
  "kernelspec": {
   "display_name": "ForestVitalityQuest",
   "language": "python",
   "name": "python3"
  },
  "language_info": {
   "codemirror_mode": {
    "name": "ipython",
    "version": 3
   },
   "file_extension": ".py",
   "mimetype": "text/x-python",
   "name": "python",
   "nbconvert_exporter": "python",
   "pygments_lexer": "ipython3",
   "version": "3.12.1"
  }
 },
 "nbformat": 4,
 "nbformat_minor": 2
}
