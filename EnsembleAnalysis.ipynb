{
 "cells": [
  {
   "cell_type": "markdown",
   "metadata": {},
   "source": [
    "# Final Site Analysis of the Minicubes\n",
    "\n",
    "This notebooks anaysis the minicubes by site. The idea is to measure trends and quantiles on a specific site. The analysis is done on the minicubes that have been created in the previous notebook.\n"
   ]
  },
  {
   "cell_type": "code",
   "execution_count": null,
   "metadata": {},
   "outputs": [],
   "source": [
    "import xarray as xr\n",
    "import numpy as np\n",
    "import pandas as pd\n",
    "from sklearn.linear_model import LinearRegression, HuberRegressor, RANSACRegressor, TheilSenRegressor\n",
    "import os\n",
    "import matplotlib.pyplot as plt"
   ]
  },
  {
   "cell_type": "code",
   "execution_count": null,
   "metadata": {},
   "outputs": [],
   "source": [
    "# Parameters\n",
    "testsite = 2\n",
    "threshhold = 0.15\n",
    "dead = 0.2\n",
    "growing_season_start = '05-20'\n",
    "growing_season_end = '08-31'\n",
    "years = [2018, 2019, 2020, 2021]"
   ]
  },
  {
   "cell_type": "code",
   "execution_count": null,
   "metadata": {},
   "outputs": [],
   "source": [
    "# find all directorys in data/FinalSites\n",
    "threshvalue = threshhold * 10000\n",
    "deadvalue = dead * 10000\n",
    "dirs = os.listdir('data/FinalSites')"
   ]
  },
  {
   "cell_type": "code",
   "execution_count": null,
   "metadata": {},
   "outputs": [],
   "source": [
    "df_healthy = pd.DataFrame()\n",
    "df_healthy_season = pd.DataFrame()\n",
    "df_dead = pd.DataFrame()\n",
    "df_dead_season = pd.DataFrame()\n",
    "\n",
    "for dir in dirs:\n",
    "    ds = xr.open_dataset(f'data/FinalSites/{dir}', engine='zarr')\n",
    "\n",
    "    # Create masks for deadwood conditions\n",
    "    mask_healthy = (ds['deadwood_2018'] < threshvalue).values & (ds['deadwood_2019'] < threshvalue).values & (ds['deadwood_2020'] < threshvalue).values & (ds['deadwood_2021'] < threshvalue).values\n",
    "    mask_dead = (ds['deadwood_2018'] > deadvalue).values & (ds['deadwood_2019'] > deadvalue).values & (ds['deadwood_2020'] > deadvalue).values & (ds['deadwood_2021'] > deadvalue).values\n",
    "    ndvi_healthy = ds['ndvi'].where(mask_healthy)\n",
    "    df_healthy = pd.concat([df_healthy, ndvi_healthy.to_dataframe().dropna()], axis=0)\n",
    "    ndvi_dead = ds['ndvi'].where(mask_dead)\n",
    "    df_dead = pd.concat([df_dead, ndvi_dead.to_dataframe().dropna()], axis=0)\n",
    "\n",
    "    # Create seasonal NDVI\n",
    "    seasons_healthy = {\n",
    "        year: ndvi_healthy.sel(time=slice(f'{year}-{growing_season_start}', f'{year}-{growing_season_end}'))\n",
    "        for year in years\n",
    "    }\n",
    "    seasons_dead = {\n",
    "        year: ndvi_dead.sel(time=slice(f'{year}-{growing_season_start}', f'{year}-{growing_season_end}'))\n",
    "        for year in years\n",
    "    }\n",
    "    # collect data from seasons into one xarray DataArray\n",
    "    season_only_healthy = xr.concat(\n",
    "        [seasons_healthy[year] for year in years], \n",
    "        dim='time'\n",
    "    )\n",
    "    df_healthy_season = pd.concat([df_healthy_season, season_only_healthy.to_dataframe().dropna()], axis=0)\n",
    "    season_only_dead = xr.concat(\n",
    "        [seasons_dead[year] for year in years], \n",
    "        dim='time'\n",
    "    )\n",
    "    df_dead_season = pd.concat([df_dead_season, season_only_dead.to_dataframe().dropna()], axis=0)\n",
    "\n",
    "# finish the dataframes:\n",
    "\n",
    "df_healthy.reset_index(inplace=True)\n",
    "df_healthy_season.reset_index(inplace=True)\n",
    "df_dead.reset_index(inplace=True)\n",
    "df_dead_season.reset_index(inplace=True)"
   ]
  },
  {
   "cell_type": "code",
   "execution_count": null,
   "metadata": {},
   "outputs": [],
   "source": [
    "ndvi_healthy = df_healthy.groupby('time')['ndvi']\n",
    "ndvi_dead = df_dead.groupby('time')['ndvi']\n",
    "\n",
    "fig, ax = plt.subplots(figsize=(20, 6))\n",
    "ndvi_healthy.mean().plot.line('b--')\n",
    "ndvi_healthy.quantile(0.9).plot.line('b')\n",
    "ndvi_dead.mean().plot.line('m--')\n",
    "ndvi_dead.quantile(0.9).plot.line('m')\n",
    "ax.set_title(f'NDVI values of Site {testsite:02} accumulated over x/y coordinates')\n",
    "ax.legend([\n",
    "    f'deadwood < {threshhold*100}% (mean)',\n",
    "    f'deadwood < {threshhold*100}% (0.9 quantile)',\n",
    "    f'deadwood > {dead*100}% (mean)',\n",
    "    f'deadwood > {dead*100}% (0.9 quantile)'\n",
    "    ],\n",
    "    loc='lower right',\n",
    "    title = 'state of the trees',\n",
    "    ncol=2)\n",
    "ax.set_ylim(0, 1)\n",
    "\n",
    "for year in years:\n",
    "    plt.axvspan(pd.to_datetime(f'{year}-{growing_season_start}'),\n",
    "                pd.to_datetime(f'{year}-{growing_season_end}'),\n",
    "                color='green', alpha=0.1)\n",
    "    plt.text(pd.to_datetime(f'{year}-{growing_season_start}'),\n",
    "             0.25, f'growing season\\n{year}', rotation=30)"
   ]
  },
  {
   "cell_type": "markdown",
   "metadata": {},
   "source": [
    "The models need to be selected and the data needs to be prepared for the models"
   ]
  },
  {
   "cell_type": "code",
   "execution_count": null,
   "metadata": {},
   "outputs": [],
   "source": [
    "healthy = df_healthy_season\n",
    "dead = df_dead_season"
   ]
  },
  {
   "cell_type": "code",
   "execution_count": null,
   "metadata": {},
   "outputs": [],
   "source": [
    "healthy = healthy.sort_values('time').reset_index(drop=True)\n",
    "dead = dead.sort_values('time').reset_index(drop=True)"
   ]
  },
  {
   "cell_type": "code",
   "execution_count": null,
   "metadata": {},
   "outputs": [],
   "source": [
    "vec_time_healthy = healthy.time.values.reshape(-1, 1)\n",
    "vec_healthy = healthy.ndvi.values\n",
    "vec_time_dead = dead.time.values.reshape(-1, 1)\n",
    "vec_dead = dead.ndvi.values"
   ]
  },
  {
   "cell_type": "markdown",
   "metadata": {},
   "source": [
    "outlier detection: IQR"
   ]
  },
  {
   "cell_type": "code",
   "execution_count": null,
   "metadata": {},
   "outputs": [],
   "source": [
    "def outlier_IQR_remover(vec_time, vec):\n",
    "    Q1 = np.percentile(vec, 25)\n",
    "    Q3 = np.percentile(vec, 75)\n",
    "    IQR = Q3 - Q1\n",
    "    mask = (vec > Q1 - 1.5 * IQR) & (vec < Q3 + 1.5 * IQR)\n",
    "    return vec_time[mask], vec[mask]"
   ]
  },
  {
   "cell_type": "code",
   "execution_count": null,
   "metadata": {},
   "outputs": [],
   "source": [
    "# vec_time_healthy, vec_healthy = outlier_IQR_remover(vec_time_healthy, vec_healthy)\n",
    "# vec_time_dead, vec_dead = outlier_IQR_remover(vec_time_dead, vec_dead)"
   ]
  },
  {
   "cell_type": "markdown",
   "metadata": {},
   "source": [
    "in case you need the numeric time, use this:"
   ]
  },
  {
   "cell_type": "code",
   "execution_count": null,
   "metadata": {},
   "outputs": [],
   "source": [
    "vec_time_healthy_numeric = (vec_time_healthy - vec_time_healthy.min()).astype('timedelta64[D]').astype(int)\n",
    "vec_time_healthy_numeric = vec_time_healthy_numeric.reshape(-1, 1)\n",
    "vec_time_dead_numeric = (vec_time_dead - vec_time_dead.min()).astype('timedelta64[D]').astype(int)\n",
    "vec_time_dead_numeric = vec_time_dead_numeric.reshape(-1, 1)"
   ]
  },
  {
   "cell_type": "code",
   "execution_count": null,
   "metadata": {},
   "outputs": [],
   "source": [
    "methodlist = [LinearRegression(), HuberRegressor(), RANSACRegressor(), TheilSenRegressor()]\n",
    "methodnames = ['Linear Regression', 'Huber Regressor', 'RANSAC Regressor', 'Theil-Sen Regressor']\n",
    "for method, methodname in zip(methodlist, methodnames):\n",
    "    model_healthy = method\n",
    "    model_dead = method\n",
    "    method.fit(vec_time_healthy_numeric, vec_healthy)\n",
    "    R_healthy = model_healthy.score(vec_time_healthy_numeric, vec_healthy)\n",
    "    model_dead.fit(vec_time_dead_numeric, vec_dead)\n",
    "    R_dead = model_dead.score(vec_time_dead_numeric, vec_dead)\n",
    "    print(f'{methodname}:\\nHealthy: R^2 = {R_healthy}\\nDead: R^2 = {R_dead}\\n')"
   ]
  },
  {
   "cell_type": "code",
   "execution_count": null,
   "metadata": {},
   "outputs": [],
   "source": [
    "# method = LinearRegression() # https://scikit-learn.org/stable/modules/generated/sklearn.linear_model.LinearRegression.html\n",
    "# method = TheilSenRegressor() # https://scikit-learn.org/stable/modules/generated/sklearn.linear_model.TheilSenRegressor.html\n",
    "method = RANSACRegressor() # https://scikit-learn.org/stable/modules/generated/sklearn.linear_model.RANSACRegressor.html\n",
    "# method = HuberRegressor() # https://scikit-learn.org/stable/modules/generated/sklearn.linear_model.HuberRegressor.html\n",
    "\n",
    "model_healthy = method\n",
    "model_healthy.fit(vec_time_healthy_numeric, vec_healthy)\n",
    "R_healthy = model_healthy.score(vec_time_healthy_numeric, vec_healthy)\n",
    "model_dead = method\n",
    "model_dead.fit(vec_time_dead_numeric, vec_dead)\n",
    "R_dead = model_dead.score(vec_time_dead_numeric, vec_dead)\n",
    "\n",
    "print(f'R^2 healthy: {R_healthy}')\n",
    "print(f'R^2 dead: {R_dead}')"
   ]
  },
  {
   "cell_type": "code",
   "execution_count": null,
   "metadata": {},
   "outputs": [],
   "source": [
    "fig, ax = plt.subplots(1, 2, figsize=(20, 5))\n",
    "ax[0].plot(vec_time_healthy, vec_healthy, 'bo', alpha=0.5)\n",
    "ax[0].plot(vec_time_healthy, model_healthy.predict(vec_time_healthy_numeric), 'r--')\n",
    "ax[0].set_title('Healthy trees')\n",
    "ax[0].set_xlabel('Time')\n",
    "ax[0].set_ylabel('NDVI')\n",
    "ax[0].set_ylim(0, 1)\n",
    "ax[0].legend(['NDVI', 'Linear Regression'], loc='lower right')\n",
    "ax[0].text(0.7, 0.3, f'R^2: {R_healthy:.3f}',\n",
    "           transform=ax[0].transAxes, fontsize=12,\n",
    "           verticalalignment='top',\n",
    "           bbox = dict(boxstyle='round', facecolor='white', alpha=0.5))\n",
    "ax[1].plot(vec_time_dead, vec_dead, 'mo', alpha=0.5)\n",
    "ax[1].plot(vec_time_dead, model_dead.predict(vec_time_dead_numeric), 'r--')\n",
    "ax[1].set_title('Deadwood trees')\n",
    "ax[1].set_xlabel('Time')\n",
    "ax[1].set_ylabel('NDVI')\n",
    "ax[1].set_ylim(0, 1)\n",
    "ax[1].legend(['NDVI', 'Linear Regression'], loc='lower right')\n",
    "ax[1].text(0.7, 0.3, f'R^2: {R_dead:.3f}',\n",
    "           transform=ax[1].transAxes, fontsize=12,\n",
    "           verticalalignment='top',\n",
    "           bbox = dict(boxstyle='round', facecolor='white', alpha=0.5))\n",
    "fig.suptitle(f'NDVI trend of site {testsite:02} using the data only from the growing season')"
   ]
  }
 ],
 "metadata": {
  "kernelspec": {
   "display_name": "ForestVitalityQuest",
   "language": "python",
   "name": "python3"
  },
  "language_info": {
   "codemirror_mode": {
    "name": "ipython",
    "version": 3
   },
   "file_extension": ".py",
   "mimetype": "text/x-python",
   "name": "python",
   "nbconvert_exporter": "python",
   "pygments_lexer": "ipython3",
   "version": "3.12.1"
  }
 },
 "nbformat": 4,
 "nbformat_minor": 2
}
