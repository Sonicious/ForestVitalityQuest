{
 "cells": [
  {
   "cell_type": "markdown",
   "metadata": {},
   "source": [
    "# Test for direct interaction with Stackstac\n",
    "\n",
    "[Tutorial](https://stackstac.readthedocs.io/en/latest/basic.html)"
   ]
  },
  {
   "cell_type": "code",
   "execution_count": null,
   "metadata": {},
   "outputs": [],
   "source": [
    "import stackstac\n",
    "import pystac_client\n",
    "\n",
    "lat = 51.34648302388849\n",
    "lon = 12.371403625185186\n",
    "\n",
    "#URL = \"https://earth-search.aws.element84.com/v1\"\n",
    "URL = 'https://planetarycomputer.microsoft.com/api/stac/v1'"
   ]
  },
  {
   "cell_type": "code",
   "execution_count": null,
   "metadata": {},
   "outputs": [],
   "source": [
    "catalog = pystac_client.Client.open(URL)\n",
    "\n",
    "items = catalog.search(\n",
    "    intersects={\"type\": \"Polygon\", \"coordinates\": [[[bounds[0], bounds[1]], [bounds[0], bounds[3]], [bounds[2], bounds[3]], [bounds[2], bounds[1]], [bounds[0], bounds[1]]]]},\n",
    "    collections=[\"sentinel-2-l2a\"],\n",
    "    datetime=\"2020-03-01/2020-06-01\",\n",
    "    query={\"eo:cloud_cover\": {\"lt\": 10}}\n",
    ").item_collection()\n",
    "len(items)\n",
    "\n",
    "stack = stackstac.stack(items)\n",
    "stack"
   ]
  }
 ],
 "metadata": {
  "kernelspec": {
   "display_name": "ForestVitalityQuest",
   "language": "python",
   "name": "python3"
  },
  "language_info": {
   "codemirror_mode": {
    "name": "ipython",
    "version": 3
   },
   "file_extension": ".py",
   "mimetype": "text/x-python",
   "name": "python",
   "nbconvert_exporter": "python",
   "pygments_lexer": "ipython3",
   "version": "3.12.1"
  }
 },
 "nbformat": 4,
 "nbformat_minor": 2
}
