{
 "cells": [
  {
   "cell_type": "markdown",
   "metadata": {},
   "source": [
    "# Test for shapefile interactions\n",
    "\n",
    "Small test to load shapefiles and plot them using geopandas and matplotlib. Also to get values form a xarray dataset using the shapefile polygon boundaries."
   ]
  },
  {
   "cell_type": "code",
   "execution_count": null,
   "metadata": {},
   "outputs": [],
   "source": [
    "# libraries\n",
    "import xarray as xr\n",
    "import geopandas as gpd\n",
    "import rasterio.features\n",
    "import numpy as np\n",
    "\n",
    "# plotting\n",
    "import matplotlib.pyplot as plt"
   ]
  },
  {
   "cell_type": "markdown",
   "metadata": {},
   "source": [
    "## Basic shapefile interactions\n",
    "\n",
    "Some tests to interact with shapefiles using geopandas"
   ]
  },
  {
   "cell_type": "code",
   "execution_count": null,
   "metadata": {},
   "outputs": [],
   "source": [
    "# load the shapefile which has many polygons. Explicitely use utf8 encoding\n",
    "SiteArea = gpd.read_file('data/AreaSites/AreaSites.shp', encoding='utf-8')\n",
    "\n",
    "fig, ax = plt.subplots(1, 2, figsize=(12, 6))  # Creates a figure with two subplots\n",
    "\n",
    "# plot all polygons\n",
    "SiteArea.plot(ax=ax[0])\n",
    "ax[0].set_title('Site Area')\n",
    "\n",
    "# plot first geometry in file\n",
    "SiteArea.loc[[0]].geometry.plot(ax=ax[1])\n",
    "ax[1].set_title('First Site only')"
   ]
  },
  {
   "cell_type": "code",
   "execution_count": null,
   "metadata": {},
   "outputs": [],
   "source": [
    "# getting polygon data by index\n",
    "site1 = SiteArea.loc[[4]]\n",
    "# here using total_bounds, not bounds, as it returns a numpy array\n",
    "bounds = site1.total_bounds\n",
    "min_x, min_y, max_x, max_y = bounds\n",
    "print('x: ', min_x, max_x)\n",
    "print('y: ', min_y, max_y)"
   ]
  },
  {
   "cell_type": "code",
   "execution_count": null,
   "metadata": {},
   "outputs": [],
   "source": [
    "# Also, to be sure about the CRS it is important to read it\n",
    "print(SiteArea.crs)"
   ]
  },
  {
   "cell_type": "markdown",
   "metadata": {},
   "source": [
    "## Indexing all values inside a shapefile polygon\n",
    "\n",
    "this is an important step to get all values of a specific testing site."
   ]
  },
  {
   "cell_type": "code",
   "execution_count": null,
   "metadata": {},
   "outputs": [],
   "source": [
    "# load zarr file with raster data\n",
    "deadwood = xr.open_zarr('data/MD.zarr')"
   ]
  },
  {
   "cell_type": "code",
   "execution_count": null,
   "metadata": {},
   "outputs": [],
   "source": [
    "# select a site number which might get into a loop later\n",
    "Sitenumber = 2\n",
    "fig, ax = plt.subplots(1, 2, figsize=(12, 6))  # Creates a figure with two subplots\n",
    "\n",
    "# Create a subset of the zarr data with the bounds of the site\n",
    "site = SiteArea.loc[[Sitenumber]]\n",
    "bounds = site.total_bounds\n",
    "min_x, min_y, max_x, max_y = bounds\n",
    "deadwood_subset = deadwood.sel(x=slice(min_x, max_x), y=slice(min_y, max_y))\n",
    "\n",
    "deadwood_subset.deadwood.isel(time=0).plot(ax=ax[0], add_colorbar=False)\n",
    "ax[0].set_title('Deadwood in Site Area bounds')\n",
    "\n",
    "# get data from shape with rasterio.features.geometry_mask.\n",
    "# This is a numpy mask for the deadwood subset\n",
    "mask = rasterio.features.geometry_mask(\n",
    "    geometries=site.geometry,\n",
    "    out_shape=(deadwood_subset.x.size, deadwood_subset.y.size),\n",
    "    transform=deadwood_subset.rio.transform(),\n",
    "    invert=True\n",
    ")\n",
    "\n",
    "# apply the mask to the deadwood_subset data\n",
    "deadwood_masked = deadwood_subset.where(mask, np.nan)\n",
    "\n",
    "# plot the masked data for a time step\n",
    "deadwood_masked.deadwood.isel(time=0).plot(ax=ax[1], add_colorbar=False)\n",
    "ax[1].set_title('Deadwood in Site Area shape')"
   ]
  },
  {
   "cell_type": "markdown",
   "metadata": {},
   "source": [
    "# Get cubo center/edges\n",
    "\n",
    "Last part is important for cubo. You need to find the center and then the surrounding box which covers the Site area. Here it is important to find it according to the Geographic CRS."
   ]
  },
  {
   "cell_type": "code",
   "execution_count": null,
   "metadata": {},
   "outputs": [],
   "source": [
    "#Find centroid in lat/lon in WGS84 (EPSG:4326)\n",
    "centroid = site.centroid\n",
    "centroid = centroid.to_crs(epsg=4326).iloc[0]"
   ]
  },
  {
   "cell_type": "markdown",
   "metadata": {},
   "source": [
    "convert the Site to UTM and calculate the maximum edge size "
   ]
  },
  {
   "cell_type": "code",
   "execution_count": null,
   "metadata": {},
   "outputs": [],
   "source": [
    "# First, find out the UTM zone for the centroid and set CRS to the appropriate UTM zone of the center point\n",
    "utm_zone = int((centroid.x + 180) // 6) + 1\n",
    "utm_crs = f'epsg:326{utm_zone}' if centroid.y >= 0 else f'epsg:327{utm_zone}'\n",
    "\n",
    "# Project the GeoDataFrame to UTM CRS\n",
    "site_utm = site.to_crs(utm_crs)\n",
    "\n",
    "# Get the bounding box in the UTM CRS\n",
    "bounds_utm = site_utm.geometry.total_bounds\n",
    "min_x, min_y, max_x, max_y = bounds_utm\n",
    "\n",
    "# Calculate width and height of the bounding box\n",
    "width = max_x - min_x\n",
    "height = max_y - min_y\n",
    "edge_size = max(width, height)\n",
    "\n",
    "print(f\"edge_size: {edge_size} meters\")"
   ]
  },
  {
   "cell_type": "code",
   "execution_count": null,
   "metadata": {},
   "outputs": [],
   "source": []
  }
 ],
 "metadata": {
  "kernelspec": {
   "display_name": "ForestVitalityQuest",
   "language": "python",
   "name": "python3"
  },
  "language_info": {
   "codemirror_mode": {
    "name": "ipython",
    "version": 3
   },
   "file_extension": ".py",
   "mimetype": "text/x-python",
   "name": "python",
   "nbconvert_exporter": "python",
   "pygments_lexer": "ipython3",
   "version": "3.12.1"
  }
 },
 "nbformat": 4,
 "nbformat_minor": 2
}
