{
 "cells": [
  {
   "cell_type": "markdown",
   "metadata": {},
   "source": [
    "# Test for Cubo things\n",
    "\n"
   ]
  },
  {
   "cell_type": "code",
   "execution_count": null,
   "metadata": {},
   "outputs": [],
   "source": [
    "import cubo\n",
    "import xarray as xr\n",
    "from sen2nbar.nbar import nbar_cubo\n",
    "import spyndex\n",
    "import geopandas as gpd\n",
    "import numpy as np\n",
    "from PIL import Image"
   ]
  },
  {
   "cell_type": "code",
   "execution_count": null,
   "metadata": {},
   "outputs": [],
   "source": [
    "# Test region: Leipzig\n",
    "#lat = 51.34648302388849, lon = 12.371403625185186,\n",
    "try:\n",
    "    da = cubo.create(\n",
    "        lat = 51.34648302388849, lon = 12.371403625185186,\n",
    "        collection = \"sentinel-2-l2a\",\n",
    "        # Some bands are not processed by nbar_cubo, so we don't need to load them\n",
    "        # bands = [\"B01\", \"B02\", \"B03\", \"B04\", \"B05\", \"B06\", \"B07\", \"B08\", \"B8A\", \"B09\", \"B11\", \"B12\"],\n",
    "        bands = [\"B02\", \"B03\", \"B04\", \"B05\", \"B06\", \"B07\", \"B08\", \"B11\", \"B12\"],\n",
    "        start_date = \"2020-01-01\",\n",
    "        end_date = \"2020-04-30\",\n",
    "        units=\"m\", # to have edge_size in meters\n",
    "        edge_size = 256,\n",
    "        resolution = 10,\n",
    "        query = {\"eo:cloud_cover\": {\"lt\": 10}}\n",
    "    )\n",
    "    \n",
    "    print(\"data found:\")\n",
    "    print(\"  size: \", da.nbytes / 1e6, \"MB\")\n",
    "    print(\"  time: \", len(da.time), \"steps\")\n",
    "\n",
    "except Exception as e:\n",
    "    print(f\"Error: {e}\")\n",
    "    da = None"
   ]
  },
  {
   "cell_type": "code",
   "execution_count": null,
   "metadata": {},
   "outputs": [],
   "source": [
    "da = nbar_cubo(da)\n",
    "\n",
    "# Leave this here for now\n",
    "#da_grouped = da.groupby(\"time\")\n",
    "#da_cleaned = da_grouped.mean(dim=\"time\", skipna=True)\n",
    "# I don't know what It means anymore. \n"
   ]
  },
  {
   "cell_type": "code",
   "execution_count": null,
   "metadata": {},
   "outputs": [],
   "source": [
    "# download the data\n",
    "da_loaded = da.load()"
   ]
  },
  {
   "cell_type": "code",
   "execution_count": null,
   "metadata": {},
   "outputs": [],
   "source": [
    "# plot something for testing\n",
    "\n",
    "(da_loaded.sel(band=[\"B04\", \"B03\", \"B02\"])).isel(time=0).plot.imshow(robust=True)\n",
    "#da_loaded.sel(band=[\"B04\", \"B03\", \"B02\"]).plot.imshow(robust=True, col=\"time\", col_wrap=4)"
   ]
  },
  {
   "cell_type": "code",
   "execution_count": null,
   "metadata": {},
   "outputs": [],
   "source": [
    "important_indices = ['NDVI']\n",
    "\n",
    "indices = spyndex.computeIndex(\n",
    "    index = important_indices,\n",
    "    params = {\n",
    "        \"B\": da.sel(band = \"B02\"),\n",
    "        \"G\": da.sel(band = \"B03\"),\n",
    "        \"R\": da.sel(band = \"B04\"),\n",
    "        \"RE1\": da.sel(band = \"B05\"),\n",
    "        \"RE2\": da.sel(band = \"B06\"),\n",
    "        \"RE3\": da.sel(band = \"B07\"),\n",
    "        \"N\": da.sel(band = \"B08\"),\n",
    "        \"S1\": da.sel(band = \"B11\"),\n",
    "        \"S2\": da.sel(band = \"B12\")\n",
    "    }\n",
    ")\n",
    "abs(indices[1]).plot.imshow(cmap=\"viridis\")"
   ]
  },
  {
   "cell_type": "code",
   "execution_count": null,
   "metadata": {},
   "outputs": [],
   "source": [
    "# to keep things here:\n",
    "#tt = Image.fromarray(((da_cleaned.sel(band=[\"B04\", \"B03\", \"B02\"]).isel(time=0)/3000).clip(0,1)*255).astype(np.uint8).transpose(\"y\", \"x\", \"band\").values)\n",
    "#tt.save(\"test.png\")\n",
    "#(da_cleaned.sel(band=[\"B04\", \"B03\", \"B02\"]).isel(time=0)/10000).clip(0,1).plot.imshow(robust=True)"
   ]
  }
 ],
 "metadata": {
  "kernelspec": {
   "display_name": "ForestVitalityQuest",
   "language": "python",
   "name": "python3"
  },
  "language_info": {
   "codemirror_mode": {
    "name": "ipython",
    "version": 3
   },
   "file_extension": ".py",
   "mimetype": "text/x-python",
   "name": "python",
   "nbconvert_exporter": "python",
   "pygments_lexer": "ipython3",
   "version": "3.12.1"
  }
 },
 "nbformat": 4,
 "nbformat_minor": 2
}
