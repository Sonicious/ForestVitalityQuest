{
 "cells": [
  {
   "cell_type": "markdown",
   "metadata": {},
   "source": [
    "# Final Site Analysis of the Minicubes\n",
    "\n",
    "This notebooks anaysis the minicubes by site. The idea is to measure trends and quantiles on a specific site. The analysis is done on the minicubes that have been created in the previous notebook.\n"
   ]
  },
  {
   "cell_type": "code",
   "execution_count": null,
   "metadata": {},
   "outputs": [],
   "source": [
    "import xarray as xr\n",
    "import geopandas as gpd\n",
    "import numpy as np\n",
    "import pandas as pd\n",
    "from sklearn.linear_model import LinearRegression, HuberRegressor, RANSACRegressor, TheilSenRegressor\n",
    "import statsmodels.api as sm\n",
    "\n",
    "# plotting\n",
    "import matplotlib.pyplot as plt"
   ]
  },
  {
   "cell_type": "markdown",
   "metadata": {},
   "source": [
    "Please select the proper site and parameters"
   ]
  },
  {
   "cell_type": "code",
   "execution_count": null,
   "metadata": {},
   "outputs": [],
   "source": [
    "# Parameters\n",
    "testsite = 2\n",
    "threshhold = 0.15\n",
    "dead = 0.2"
   ]
  },
  {
   "cell_type": "markdown",
   "metadata": {},
   "source": [
    "First some Data processing to create season information and mask the data"
   ]
  },
  {
   "cell_type": "code",
   "execution_count": null,
   "metadata": {},
   "outputs": [],
   "source": [
    "ds = xr.open_dataset(f'data/FinalSites/Site{testsite:02}.zarr', engine='zarr')\n",
    "# convert thresh to value\n",
    "threshvalue = threshhold * 10000\n",
    "deadvalue = dead * 10000\n",
    "\n",
    "# Create masks for deadwood conditions\n",
    "mask_healthy = (ds['deadwood_2018'] < threshvalue).values & (ds['deadwood_2019'] < threshvalue).values & (ds['deadwood_2020'] < threshvalue).values & (ds['deadwood_2021'] < threshvalue).values\n",
    "mask_dead = (ds['deadwood_2018'] > deadvalue).values & (ds['deadwood_2019'] > deadvalue).values & (ds['deadwood_2020'] > deadvalue).values & (ds['deadwood_2021'] > deadvalue).values\n",
    "ndvi_healthy = ds['ndvi'].where(mask_healthy)\n",
    "ndvi_dead = ds['ndvi'].where(mask_dead)\n",
    "\n",
    "# Create seasonal NDVI\n",
    "seasons_healthy = {\n",
    "    '2018' : ndvi_healthy.sel(time = slice('2018-05-20', '2018-08-31')),\n",
    "    '2019' : ndvi_healthy.sel(time = slice('2019-05-20', '2019-08-31')),\n",
    "    '2020' : ndvi_healthy.sel(time = slice('2020-05-20', '2020-08-31')),\n",
    "    '2021' : ndvi_healthy.sel(time = slice('2021-05-20', '2021-08-31'))\n",
    "}\n",
    "seasons_dead = {\n",
    "    '2018' : ndvi_dead.sel(time = slice('2018-05-20', '2018-08-31')),\n",
    "    '2019' : ndvi_dead.sel(time = slice('2019-05-20', '2019-08-31')),\n",
    "    '2020' : ndvi_dead.sel(time = slice('2020-05-20', '2020-08-31')),\n",
    "    '2021' : ndvi_dead.sel(time = slice('2021-05-20', '2021-08-31'))\n",
    "}\n",
    "\n",
    "season_only_healthy = xr.concat([seasons_healthy['2018'],\n",
    "        seasons_healthy['2019'],\n",
    "        seasons_healthy['2020'],\n",
    "        seasons_healthy['2021']], dim = 'time')\n",
    "\n",
    "season_only_dead = xr.concat([seasons_dead['2018'],\n",
    "        seasons_dead['2019'],\n",
    "        seasons_dead['2020'],\n",
    "        seasons_dead['2021']], dim = 'time')"
   ]
  },
  {
   "cell_type": "markdown",
   "metadata": {},
   "source": [
    "Generate quantile data for the site"
   ]
  },
  {
   "cell_type": "code",
   "execution_count": null,
   "metadata": {},
   "outputs": [],
   "source": [
    "# get quantile values per season and store in xarray DataArray\n",
    "quantiles = xr.DataArray(\n",
    "    np.zeros((4, 3, 2)),\n",
    "    dims=['season', 'quantile', 'state'],\n",
    "    coords={'season': ['2018', '2019', '2020', '2021'],\n",
    "            'quantile': [0.9, 0.95, 0.99],\n",
    "            'state': ['healthy', 'deadwood']\n",
    "    }\n",
    ")\n",
    "for i, season in enumerate(seasons_healthy):\n",
    "    quantiles.sel(state = 'healthy').loc[season] = seasons_healthy[season].quantile([0.9, 0.95, 0.99]).values\n",
    "for i, season in enumerate(seasons_dead):\n",
    "    quantiles.sel(state = 'deadwood').loc[season] = seasons_dead[season].quantile([0.9, 0.95, 0.99]).values"
   ]
  },
  {
   "cell_type": "markdown",
   "metadata": {},
   "source": [
    "Now several Plots to explore data"
   ]
  },
  {
   "cell_type": "code",
   "execution_count": null,
   "metadata": {},
   "outputs": [],
   "source": [
    "# distribution of healthy and deadwood\n",
    "fig, ax = plt.subplots(1, 3, figsize=(20, 5))\n",
    "ds['ndvi'].isel(time=0).plot.imshow(cmap='viridis', robust=True, ax=ax[0], add_colorbar=False)\n",
    "ax[0].set_title(f'NDVI values, {np.datetime_as_string(ds.time[0].values, unit=\"D\")}')\n",
    "# no labels\n",
    "ax[0].set_yticklabels([])\n",
    "ax[0].set_xticklabels([])\n",
    "ax[0].set_xlabel('')\n",
    "ax[0].set_ylabel('')\n",
    "(ndvi_dead.isel(time=10) > 0 ).plot.imshow(cmap = 'Reds', ax=ax[1], add_colorbar=False)\n",
    "ax[1].set_title(f'Deadwood values, threshhold {dead*100}%')\n",
    "# no labels\n",
    "ax[1].set_yticklabels([])\n",
    "ax[1].set_xticklabels([])\n",
    "ax[1].set_xlabel('')\n",
    "ax[1].set_ylabel('')\n",
    "(ndvi_healthy.isel(time=10) > 0 ).plot.imshow(cmap = 'Greens', ax=ax[2], add_colorbar=False)\n",
    "ax[2].set_title(f'non deadwood values, threshhold {threshhold*100}%')\n",
    "# no labels\n",
    "ax[2].set_yticklabels([])\n",
    "ax[2].set_xticklabels([])\n",
    "ax[2].set_xlabel('')\n",
    "ax[2].set_ylabel('')\n",
    "fig.suptitle(f'Healthy and Deadwood distribution of Site {testsite:02} in corresponding UTM grid')"
   ]
  },
  {
   "cell_type": "code",
   "execution_count": null,
   "metadata": {},
   "outputs": [],
   "source": [
    "fig, ax = plt.subplots(figsize=(20, 5))\n",
    "ndvi_healthy.mean(dim=['y', 'x']).plot.line('b--')\n",
    "ndvi_healthy.quantile(0.9, dim=['y', 'x']).plot.line('b')\n",
    "ndvi_dead.mean(dim=['y', 'x']).plot.line('m--')\n",
    "ndvi_dead.quantile(0.9, dim=['y', 'x']).plot.line('m')\n",
    "ax.set_title(f'NDVI values of Site {testsite:02} accumulated over x/y coordinates')\n",
    "ax.legend([\n",
    "    f'deadwood < {threshhold*100}% (mean)',\n",
    "    f'deadwood < {threshhold*100}% (0.9 quantile)',\n",
    "    f'deadwood > {dead*100}% (mean)',\n",
    "    f'deadwood > {dead*100}% (0.9 quantile)'\n",
    "    ],\n",
    "    loc='lower right',\n",
    "    title = 'state of the trees',\n",
    "    ncol=2)\n",
    "plt.axvspan(pd.to_datetime('2018-05-20'), pd.to_datetime('2018-08-31'), color='green', alpha=0.1)\n",
    "plt.text(pd.to_datetime('2018-05-20'), 0.3, 'growing season\\n2018', rotation=30)\n",
    "plt.axvspan(pd.to_datetime('2019-05-20'), pd.to_datetime('2019-08-31'), color='green', alpha=0.1)\n",
    "plt.text(pd.to_datetime('2019-05-20'), 0.3, 'growing season\\n2019', rotation=30)\n",
    "plt.axvspan(pd.to_datetime('2020-05-20'), pd.to_datetime('2020-08-31'), color='green', alpha=0.1)\n",
    "plt.text(pd.to_datetime('2020-05-20'), 0.3, 'growing season\\n2020', rotation=30)\n",
    "plt.axvspan(pd.to_datetime('2021-05-20'), pd.to_datetime('2021-08-31'), color='green', alpha=0.1)\n",
    "plt.text(pd.to_datetime('2021-05-20'), 0.3, 'growing season\\n2021', rotation=30)"
   ]
  },
  {
   "cell_type": "code",
   "execution_count": null,
   "metadata": {},
   "outputs": [],
   "source": [
    "# fig, ax = plt.subplots(figsize=(5, 3))\n",
    "# quantiles.sel(quantile = 0.9).plot.line(x='season', hue='state', marker = 'o', linestyle = '')\n",
    "# plt.legend([f'standing deadwood < {threshhold*100}%', f'standing deadwood > {dead*100}%'], loc='center right', title = 'state of the trees in pixel')\n",
    "# plt.title(f'NDVI trend of site {testsite:02} using the 0.9 quantile of the seasonal data')\n",
    "# plt.xlabel('Season')"
   ]
  },
  {
   "cell_type": "markdown",
   "metadata": {},
   "source": [
    "The models need to be selected and the data needs to be prepared for the models"
   ]
  },
  {
   "cell_type": "code",
   "execution_count": null,
   "metadata": {},
   "outputs": [],
   "source": [
    "healthy = season_only_healthy.to_dataframe(name='ndvi')\n",
    "healthy.reset_index(inplace=True)\n",
    "healthy.dropna(inplace=True)\n",
    "dead = season_only_dead.to_dataframe(name='ndvi')\n",
    "dead.reset_index(inplace=True)\n",
    "dead.dropna(inplace=True)\n",
    "healthy.time = pd.to_datetime(healthy.time)\n",
    "dead.time = pd.to_datetime(dead.time)"
   ]
  },
  {
   "cell_type": "code",
   "execution_count": null,
   "metadata": {},
   "outputs": [],
   "source": [
    "vec_time_healthy = healthy.time.values.reshape(-1, 1)\n",
    "vec_healthy = healthy.ndvi.values\n",
    "vec_time_dead = dead.time.values.reshape(-1, 1)\n",
    "vec_dead = dead.ndvi.values"
   ]
  },
  {
   "cell_type": "markdown",
   "metadata": {},
   "source": [
    "outlier detection: IQR"
   ]
  },
  {
   "cell_type": "code",
   "execution_count": null,
   "metadata": {},
   "outputs": [],
   "source": [
    "def outlier_IQR_remover(vec_time, vec):\n",
    "    Q1 = np.percentile(vec, 25)\n",
    "    Q3 = np.percentile(vec, 75)\n",
    "    IQR = Q3 - Q1\n",
    "    mask = (vec > Q1 - 1.5 * IQR) & (vec < Q3 + 1.5 * IQR)\n",
    "    return vec_time[mask], vec[mask]"
   ]
  },
  {
   "cell_type": "code",
   "execution_count": null,
   "metadata": {},
   "outputs": [],
   "source": [
    "# vec_time_healthy, vec_healthy = outlier_IQR_remover(vec_time_healthy, vec_healthy)\n",
    "# vec_time_dead, vec_dead = outlier_IQR_remover(vec_time_dead, vec_dead)"
   ]
  },
  {
   "cell_type": "markdown",
   "metadata": {},
   "source": [
    "in case you need the numeric time, use this:"
   ]
  },
  {
   "cell_type": "code",
   "execution_count": null,
   "metadata": {},
   "outputs": [],
   "source": [
    "vec_time_healthy_numeric = (vec_time_healthy - vec_time_healthy.min()).astype('timedelta64[D]').astype(int)\n",
    "vec_time_healthy_numeric = vec_time_healthy_numeric.reshape(-1, 1)\n",
    "vec_time_dead_numeric = (vec_time_dead - vec_time_dead.min()).astype('timedelta64[D]').astype(int)\n",
    "vec_time_dead_numeric = vec_time_dead_numeric.reshape(-1, 1)"
   ]
  },
  {
   "cell_type": "code",
   "execution_count": null,
   "metadata": {},
   "outputs": [],
   "source": [
    "# method = LinearRegression() # https://scikit-learn.org/stable/modules/generated/sklearn.linear_model.LinearRegression.html\n",
    "# method = TheilSenRegressor() # https://scikit-learn.org/stable/modules/generated/sklearn.linear_model.TheilSenRegressor.html\n",
    "# method = RANSACRegressor() # https://scikit-learn.org/stable/modules/generated/sklearn.linear_model.RANSACRegressor.html\n",
    "method = HuberRegressor() # https://scikit-learn.org/stable/modules/generated/sklearn.linear_model.HuberRegressor.html\n",
    "\n",
    "model_healthy = method\n",
    "model_healthy.fit(vec_time_healthy_numeric, vec_healthy)\n",
    "R_healthy = model_healthy.score(vec_time_healthy_numeric, vec_healthy)\n",
    "model_dead = method\n",
    "model_dead.fit(vec_time_dead_numeric, vec_dead)\n",
    "R_dead = model_dead.score(vec_time_dead_numeric, vec_dead)\n",
    "\n",
    "print(f'R^2 healthy: {R_healthy}')\n",
    "print(f'R^2 dead: {R_dead}')"
   ]
  },
  {
   "cell_type": "code",
   "execution_count": null,
   "metadata": {},
   "outputs": [],
   "source": [
    "fig, ax = plt.subplots(1, 2, figsize=(20, 5))\n",
    "ax[0].plot(vec_time_healthy, vec_healthy, 'b')\n",
    "ax[0].plot(vec_time_healthy, model_healthy.predict(vec_time_healthy_numeric), 'r--')\n",
    "ax[0].set_title('Healthy trees')\n",
    "ax[0].set_xlabel('Time')\n",
    "ax[0].set_ylabel('NDVI')\n",
    "ax[0].set_ylim(0, 1)\n",
    "ax[0].legend(['NDVI', 'Linear Regression'], loc='lower right')\n",
    "ax[0].text(0.7, 0.3, f'R^2: {R_healthy:.3f}',\n",
    "           transform=ax[0].transAxes, fontsize=12,\n",
    "           verticalalignment='top',\n",
    "           bbox = dict(boxstyle='round', facecolor='white', alpha=0.5))\n",
    "ax[1].plot(vec_time_dead, vec_dead, 'm')\n",
    "ax[1].plot(vec_time_dead, model_dead.predict(vec_time_dead_numeric), 'r--')\n",
    "ax[1].set_title('Deadwood trees')\n",
    "ax[1].set_xlabel('Time')\n",
    "ax[1].set_ylabel('NDVI')\n",
    "ax[1].set_ylim(0, 1)\n",
    "ax[1].legend(['NDVI', 'Linear Regression'], loc='lower right')\n",
    "ax[1].text(0.7, 0.3, f'R^2: {R_dead:.3f}',\n",
    "           transform=ax[1].transAxes, fontsize=12,\n",
    "           verticalalignment='top',\n",
    "           bbox = dict(boxstyle='round', facecolor='white', alpha=0.5))\n",
    "fig.suptitle(f'NDVI trend of site {testsite:02} using the data only from the growing season')"
   ]
  },
  {
   "cell_type": "code",
   "execution_count": null,
   "metadata": {},
   "outputs": [],
   "source": []
  }
 ],
 "metadata": {
  "kernelspec": {
   "display_name": "ForestVitalityQuest",
   "language": "python",
   "name": "python3"
  },
  "language_info": {
   "codemirror_mode": {
    "name": "ipython",
    "version": 3
   },
   "file_extension": ".py",
   "mimetype": "text/x-python",
   "name": "python",
   "nbconvert_exporter": "python",
   "pygments_lexer": "ipython3",
   "version": "3.12.1"
  }
 },
 "nbformat": 4,
 "nbformat_minor": 2
}
